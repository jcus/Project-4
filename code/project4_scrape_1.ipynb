{
  "nbformat": 4,
  "nbformat_minor": 0,
  "metadata": {
    "colab": {
      "name": "project4_scrape_1.ipynb",
      "provenance": [],
      "collapsed_sections": []
    },
    "kernelspec": {
      "name": "python3",
      "display_name": "Python 3"
    },
    "language_info": {
      "name": "python"
    }
  },
  "cells": [
    {
      "cell_type": "code",
      "execution_count": 1,
      "metadata": {
        "colab": {
          "base_uri": "https://localhost:8080/"
        },
        "id": "An0zCYuyF3zA",
        "outputId": "f561fe55-fb4e-40e3-92a1-cc48f3a576a9"
      },
      "outputs": [
        {
          "output_type": "stream",
          "name": "stdout",
          "text": [
            "rm: cannot remove '/content/drive/MyDrive/DataBootcamp_Project4': No such file or directory\n",
            "Cloning into 'DataBootcamp_Project4'...\n",
            "remote: Enumerating objects: 52, done.\u001b[K\n",
            "remote: Counting objects: 100% (52/52), done.\u001b[K\n",
            "remote: Compressing objects: 100% (42/42), done.\u001b[K\n",
            "remote: Total 52 (delta 17), reused 31 (delta 8), pack-reused 0\u001b[K\n",
            "Unpacking objects: 100% (52/52), done.\n"
          ]
        }
      ],
      "source": [
        "\n",
        "!rm -r /content/drive/MyDrive/DataBootcamp_Project4\n",
        "!(cd /content/drive/MyDrive/;git clone https://github.com/AvondreHenderson/DataBootcamp_Project4)\n"
      ]
    },
    {
      "cell_type": "code",
      "source": [
        ""
      ],
      "metadata": {
        "id": "U3m70Nb162KP"
      },
      "execution_count": null,
      "outputs": []
    },
    {
      "cell_type": "code",
      "source": [
        "!ls -lrt /content/drive/MyDrive/DataBootcamp_Project4/code\n"
      ],
      "metadata": {
        "id": "7eQfss68IlS7",
        "colab": {
          "base_uri": "https://localhost:8080/"
        },
        "outputId": "051dfd91-c06b-45a6-9fba-3bdd04a87221"
      },
      "execution_count": 2,
      "outputs": [
        {
          "output_type": "stream",
          "name": "stdout",
          "text": [
            "total 265\n",
            "-rw------- 1 root root 205728 Mar  1 14:25 'Step_3_and_4_Starter_Code (1).ipynb'\n",
            "-rw------- 1 root root   4759 Mar  1 14:25  scrape.py\n",
            "-rw------- 1 root root  30806 Mar  1 14:25  scrape_height_weight.ipynb\n",
            "-rw------- 1 root root  28161 Mar  1 14:25  player_add_info_2000_2500.csv\n"
          ]
        }
      ]
    },
    {
      "cell_type": "code",
      "source": [
        "!ls -lrt /content/drive/MyDrive/\n"
      ],
      "metadata": {
        "colab": {
          "base_uri": "https://localhost:8080/"
        },
        "id": "jW1-Ian3pbXy",
        "outputId": "86f8e3de-62bf-4db4-9bf0-29d05ad8f910"
      },
      "execution_count": 3,
      "outputs": [
        {
          "output_type": "stream",
          "name": "stdout",
          "text": [
            "total 224225\n",
            "-r-------- 1 root root   105584 Aug  8  2012 '2012 CRV Audio Schematic.pdf'\n",
            "-r-------- 1 root root   294933 Aug  8  2012 '2012 CRV Audio Component Locations.pdf'\n",
            "-rw------- 1 root root  3017667 Jul  2  2014 'How to get started with Drive.pdf'\n",
            "-rw------- 1 root root      143 Sep 18  2014 'linux commands.gdoc'\n",
            "-rw------- 1 root root  2108822 Sep 24  2014 'Write Your Way into College - College Admissions Essay - (Learning Express, 2010) WW.pdf'\n",
            "-rw------- 1 root root  4864256 Sep 24  2014 'College Essays that Made a Difference 4th ed. - (Princeton Review, ) WW.epub'\n",
            "-rw------- 1 root root  1659813 Oct  3  2014 'The Sports Gene Inside the Science of Extraordinary Athletic Performance.pdf'\n",
            "-rw------- 1 root root 13969175 Oct  3  2014 \"Living Well with Back Pain What Your Doctor Doesn't Tell You.pdf\"\n",
            "-rw------- 1 root root  2610112 Oct  3  2014 'The 7-Day Back Pain Cure How Thousands of People Got Relief Without Doctors, Drugs, or Surgery.pdf'\n",
            "-rw------- 1 root root  1885877 Oct  3  2014  McGraw.Hill.How.to.Ace.the.Brainteaser.Interview.eBook.pdf\n",
            "-rw------- 1 root root 16808650 Oct  3  2014 'Lynn Brunelle - Why Did I Buy This Book- Over 500 Puzzlers, Teasers, and Challenges to Boost Your Brainpower (epub).epub'\n",
            "-rw------- 1 root root    85485 Apr  9  2015  9.pdf\n",
            "-rw------- 1 root root      111 Jun 13  2015 'My Saved Places.gmap'\n",
            "-rw------- 1 root root      143 Oct 10  2016 'Untitled spreadsheet (1).gsheet'\n",
            "-rw------- 1 root root  3275386 Mar  3  2017  kpcdadp.pdf\n",
            "-rw------- 1 root root 11889033 Mar  3  2017  kpoccce.epub\n",
            "-rw------- 1 root root  8574564 Mar  3  2017 'Oracle ADF Real World Developer'\\''s Guide (Packt, 2012).epub'\n",
            "-rw------- 1 root root  6345466 Mar  3  2017 'Publishing Oracle ADF 11gR2 Development, Beginner'\\''s Guide (2013).pdf'\n",
            "-rw------- 1 root root  2055846 Mar  3  2017 'Wiley Public Key Cryptography, Applications and Attacks (2013).pdf'\n",
            "-rw------- 1 root root 24700140 Mar  3  2017  kpoeade.epub\n",
            "-rw------- 1 root root 17190423 Mar  3  2017 'Packt Publishing Oracle E-Business Suite R12 Integration and OA Framework Development and Extension Cookbook (2013).pdf'\n",
            "-rw------- 1 root root      143 Sep 24  2017 'Untitled spreadsheet.gsheet'\n",
            "-rw------- 1 root root     1548 Sep 24  2017  sfo_dhcp_reserve.xml\n",
            "-rw------- 1 root root  5167494 Feb 14  2019  documents.pdf\n",
            "-rw------- 1 root root    66355 Jul 13  2020  pricingjul12.zip\n",
            "-rw------- 1 root root    67122 Jul 26  2020  pricingjul9.zip\n",
            "-rw------- 1 root root    66958 Aug 20  2020  pricing.zip\n",
            "-rw------- 1 root root  2532666 Aug 27  2020  office_2019.zip\n",
            "drwx------ 2 root root     4096 Sep  2 20:48  PREWORK_VH\n",
            "drwx------ 2 root root     4096 Sep  2 23:30  CAREER\n",
            "drwx------ 2 root root     4096 Sep  3 01:54  BOOTCAMP_NOTES\n",
            "drwx------ 2 root root     4096 Sep 10 18:53  BOOTCAMP\n",
            "-rw------- 1 root root 35985287 Nov 19 16:14  t440_hmm_en.pdf\n",
            "drwx------ 2 root root     4096 Feb  5 15:17 'Colab Notebooks'\n",
            "-rw------- 1 root root    33655 Feb 12 15:21  spark_dataframe_basics.ipynb\n",
            "-rw------- 1 root root      143 Feb 17 22:46 'Charity Funding Predictor.gdoc'\n",
            "-rw------- 1 root root   205728 Mar  1 05:20 'Step_3_and_4_Starter_Code (1).ipynb'\n",
            "-rw------- 1 root root     4759 Mar  1 05:20  scrape.py\n",
            "-rw------- 1 root root    30806 Mar  1 05:20  scrape_height_weight.ipynb\n",
            "-rw------- 1 root root 34062167 Mar  1 06:24  scrape_10000_20000.log\n",
            "-rw------- 1 root root   578691 Mar  1 06:24  player_add_info_10001_20000.csv\n",
            "-rw------- 1 root root   576932 Mar  1 06:24  player_add_info_0_10000.csv\n",
            "-rw------- 1 root root 28720259 Mar  1 06:24  scrape_0_10000.log\n",
            "-rw------- 1 root root    28161 Mar  1 06:24  player_add_info_2000_2500.csv\n",
            "drwx------ 5 root root     4096 Mar  1 14:25  DataBootcamp_Project4\n"
          ]
        }
      ]
    },
    {
      "cell_type": "code",
      "source": [
        "from google.colab import drive\n",
        "drive.mount('/content/drive')"
      ],
      "metadata": {
        "id": "rYAp-yFBnpAJ",
        "colab": {
          "base_uri": "https://localhost:8080/",
          "height": 343
        },
        "outputId": "4f5d0fe0-7b77-4155-839f-87c8e9c394bb"
      },
      "execution_count": null,
      "outputs": [
        {
          "output_type": "error",
          "ename": "MessageError",
          "evalue": "ignored",
          "traceback": [
            "\u001b[0;31m---------------------------------------------------------------------------\u001b[0m",
            "\u001b[0;31mMessageError\u001b[0m                              Traceback (most recent call last)",
            "\u001b[0;32m<ipython-input-4-d5df0069828e>\u001b[0m in \u001b[0;36m<module>\u001b[0;34m()\u001b[0m\n\u001b[1;32m      1\u001b[0m \u001b[0;32mfrom\u001b[0m \u001b[0mgoogle\u001b[0m\u001b[0;34m.\u001b[0m\u001b[0mcolab\u001b[0m \u001b[0;32mimport\u001b[0m \u001b[0mdrive\u001b[0m\u001b[0;34m\u001b[0m\u001b[0;34m\u001b[0m\u001b[0m\n\u001b[0;32m----> 2\u001b[0;31m \u001b[0mdrive\u001b[0m\u001b[0;34m.\u001b[0m\u001b[0mmount\u001b[0m\u001b[0;34m(\u001b[0m\u001b[0;34m'/content/drive'\u001b[0m\u001b[0;34m)\u001b[0m\u001b[0;34m\u001b[0m\u001b[0;34m\u001b[0m\u001b[0m\n\u001b[0m",
            "\u001b[0;32m/usr/local/lib/python3.7/dist-packages/google/colab/drive.py\u001b[0m in \u001b[0;36mmount\u001b[0;34m(mountpoint, force_remount, timeout_ms, use_metadata_server)\u001b[0m\n\u001b[1;32m    113\u001b[0m       \u001b[0mforce_remount\u001b[0m\u001b[0;34m=\u001b[0m\u001b[0mforce_remount\u001b[0m\u001b[0;34m,\u001b[0m\u001b[0;34m\u001b[0m\u001b[0;34m\u001b[0m\u001b[0m\n\u001b[1;32m    114\u001b[0m       \u001b[0mtimeout_ms\u001b[0m\u001b[0;34m=\u001b[0m\u001b[0mtimeout_ms\u001b[0m\u001b[0;34m,\u001b[0m\u001b[0;34m\u001b[0m\u001b[0;34m\u001b[0m\u001b[0m\n\u001b[0;32m--> 115\u001b[0;31m       ephemeral=True)\n\u001b[0m\u001b[1;32m    116\u001b[0m \u001b[0;34m\u001b[0m\u001b[0m\n\u001b[1;32m    117\u001b[0m \u001b[0;34m\u001b[0m\u001b[0m\n",
            "\u001b[0;32m/usr/local/lib/python3.7/dist-packages/google/colab/drive.py\u001b[0m in \u001b[0;36m_mount\u001b[0;34m(mountpoint, force_remount, timeout_ms, use_metadata_server, ephemeral)\u001b[0m\n\u001b[1;32m    133\u001b[0m   \u001b[0;32mif\u001b[0m \u001b[0mephemeral\u001b[0m\u001b[0;34m:\u001b[0m\u001b[0;34m\u001b[0m\u001b[0;34m\u001b[0m\u001b[0m\n\u001b[1;32m    134\u001b[0m     _message.blocking_request(\n\u001b[0;32m--> 135\u001b[0;31m         'request_auth', request={'authType': 'dfs_ephemeral'}, timeout_sec=None)\n\u001b[0m\u001b[1;32m    136\u001b[0m \u001b[0;34m\u001b[0m\u001b[0m\n\u001b[1;32m    137\u001b[0m   \u001b[0mmountpoint\u001b[0m \u001b[0;34m=\u001b[0m \u001b[0m_os\u001b[0m\u001b[0;34m.\u001b[0m\u001b[0mpath\u001b[0m\u001b[0;34m.\u001b[0m\u001b[0mexpanduser\u001b[0m\u001b[0;34m(\u001b[0m\u001b[0mmountpoint\u001b[0m\u001b[0;34m)\u001b[0m\u001b[0;34m\u001b[0m\u001b[0;34m\u001b[0m\u001b[0m\n",
            "\u001b[0;32m/usr/local/lib/python3.7/dist-packages/google/colab/_message.py\u001b[0m in \u001b[0;36mblocking_request\u001b[0;34m(request_type, request, timeout_sec, parent)\u001b[0m\n\u001b[1;32m    173\u001b[0m   request_id = send_request(\n\u001b[1;32m    174\u001b[0m       request_type, request, parent=parent, expect_reply=True)\n\u001b[0;32m--> 175\u001b[0;31m   \u001b[0;32mreturn\u001b[0m \u001b[0mread_reply_from_input\u001b[0m\u001b[0;34m(\u001b[0m\u001b[0mrequest_id\u001b[0m\u001b[0;34m,\u001b[0m \u001b[0mtimeout_sec\u001b[0m\u001b[0;34m)\u001b[0m\u001b[0;34m\u001b[0m\u001b[0;34m\u001b[0m\u001b[0m\n\u001b[0m",
            "\u001b[0;32m/usr/local/lib/python3.7/dist-packages/google/colab/_message.py\u001b[0m in \u001b[0;36mread_reply_from_input\u001b[0;34m(message_id, timeout_sec)\u001b[0m\n\u001b[1;32m    104\u001b[0m         reply.get('colab_msg_id') == message_id):\n\u001b[1;32m    105\u001b[0m       \u001b[0;32mif\u001b[0m \u001b[0;34m'error'\u001b[0m \u001b[0;32min\u001b[0m \u001b[0mreply\u001b[0m\u001b[0;34m:\u001b[0m\u001b[0;34m\u001b[0m\u001b[0;34m\u001b[0m\u001b[0m\n\u001b[0;32m--> 106\u001b[0;31m         \u001b[0;32mraise\u001b[0m \u001b[0mMessageError\u001b[0m\u001b[0;34m(\u001b[0m\u001b[0mreply\u001b[0m\u001b[0;34m[\u001b[0m\u001b[0;34m'error'\u001b[0m\u001b[0;34m]\u001b[0m\u001b[0;34m)\u001b[0m\u001b[0;34m\u001b[0m\u001b[0;34m\u001b[0m\u001b[0m\n\u001b[0m\u001b[1;32m    107\u001b[0m       \u001b[0;32mreturn\u001b[0m \u001b[0mreply\u001b[0m\u001b[0;34m.\u001b[0m\u001b[0mget\u001b[0m\u001b[0;34m(\u001b[0m\u001b[0;34m'data'\u001b[0m\u001b[0;34m,\u001b[0m \u001b[0;32mNone\u001b[0m\u001b[0;34m)\u001b[0m\u001b[0;34m\u001b[0m\u001b[0;34m\u001b[0m\u001b[0m\n\u001b[1;32m    108\u001b[0m \u001b[0;34m\u001b[0m\u001b[0m\n",
            "\u001b[0;31mMessageError\u001b[0m: Error: credential propagation was unsuccessful"
          ]
        }
      ]
    },
    {
      "cell_type": "code",
      "source": [
        "!cat /content/drive/MyDrive/DataBootcamp_Project4/code/scrape.py"
      ],
      "metadata": {
        "colab": {
          "base_uri": "https://localhost:8080/"
        },
        "id": "T7xCssHK5BkP",
        "outputId": "d646d14e-9fcf-41f0-e770-7f1c69275dec"
      },
      "execution_count": null,
      "outputs": [
        {
          "output_type": "stream",
          "name": "stdout",
          "text": [
            "\n",
            "# Dependencies\n",
            "from bs4 import BeautifulSoup\n",
            "import requests\n",
            "import os\n",
            "import pandas as pd\n",
            "import time\n",
            "import sys\n",
            "\n",
            "\n",
            "\n",
            "csv_path = \"../data/Group6_Project4_data.csv\"\n",
            "bb_players_df = pd.read_csv(csv_path)\n",
            "bb_players_df.head(10)\n",
            "\n",
            "#start_row=2000\n",
            "#end_row=10000\n",
            "\n",
            "start_row=int(sys.argv[1])\n",
            "end_row = int(sys.argv[2])\n",
            "\n",
            "for i in range(start_row,end_row):\n",
            "    print (i)\n",
            "\n",
            "print(\"Startinng row\",start_row, \"Ending row\", end_row) \n",
            "\n",
            "year=[]\n",
            "team=[]\n",
            "player_name = []\n",
            "player_height = []\n",
            "player_weight = []\n",
            "player_position = []\n",
            "process_status = []\n",
            "for index, row in bb_players_df.iterrows():\n",
            "    height=0\n",
            "    weight=0\n",
            "    position=\"NA\"\n",
            "#    print(index,\"-\" ,row['player_name'])\n",
            "    if index < start_row:\n",
            "        continue\n",
            "    if index > end_row:\n",
            "        break\n",
            "    player = row['player_name'].lower().replace(\".\",\"\").replace(\"'\",\"\").replace(\",\",\"\").replace(\"`\",\"\")\n",
            "    first_last = player.split()\n",
            "    sports_ref_player =\"\"\n",
            "    for windex,word in enumerate(first_last):\n",
            "        if windex==0 and len(first_last) > 1:\n",
            "            sports_ref_player = word\n",
            "        elif windex==0 and len(first_last) == 1:\n",
            "            sports_ref_player = word + \"-1\"\n",
            "        elif windex > 0 and len(first_last) > windex +1:\n",
            "            sports_ref_player = sports_ref_player + \"-\" +   word\n",
            "        elif windex > 0 and len(first_last) == windex+1:\n",
            "            sports_ref_player = sports_ref_player + \"-\" +   word + \"-1\"\n",
            "            \n",
            "    print(sports_ref_player)\n",
            "#    sports_ref_player = first_last[0] + \"-\" + first_last[1] + \"-1\"\n",
            "    milliseconds = 100\n",
            "    seconds = 0.001 * milliseconds\n",
            "    start_time = time.time()\n",
            "    time.sleep(seconds)\n",
            "    stop_time = time.time()\n",
            "#    time.sleep(1)\n",
            "    player_name.append(row['player_name'])\n",
            "    year.append(row['year'])\n",
            "    team.append(row['team'])\n",
            "    url = 'https://www.sports-reference.com/cbb/players/' + sports_ref_player+'.html'\n",
            "    try:\n",
            "        response = requests.get(url)\n",
            "        if response.text.find(\"Position:\") > -1 and response.text.find('itemprop=\"height\"') > -1 :\n",
            "            print(\"Found url\")\n",
            "        else :\n",
            "            response = requests.get(url.replace(\"-1\",\"-2\"))\n",
            "            \n",
            "        soup = BeautifulSoup(response.text, 'html.parser')\n",
            "        if response.text.find(\"Position:\") > -1 and response.text.find('itemprop=\"height\"') > -1 : \n",
            "            results = soup.find_all('div', id='info')\n",
            "            #print(results[0])\n",
            "            ptags = results[0].find_all('p')\n",
            "#            print(ptags[0].contents[2].strip())\n",
            "            position=ptags[0].contents[2].strip()\n",
            "            print('Height tags',ptags[0].contents[3].contents[-1].strip())\n",
            "            print(ptags[0].contents[3].contents[-1].strip())\n",
            "            poop = ptags[0].contents[3].contents[-1].strip().replace(\"(\",\"\").replace(\")\",\"\").replace(\"cm\",\"\").replace(\"kg\",\"\")\n",
            "            print(poop)\n",
            "            height_weight= poop.split(\",\\xa0\")\n",
            "            if len(height_weight) > 1 :\n",
            "                height=height_weight[0]\n",
            "                weight=height_weight[1]\n",
            "            elif len(height_weight) > 0 :\n",
            "                height=height_weight[0]\n",
            "            else:\n",
            "                height=-200\n",
            "                weight=-200\n",
            "            \n",
            "#            height,weight = poop.split(\",\\xa0\")\n",
            "            print(height,\"-\" ,weight)\n",
            "            player_position.append(position)\n",
            "#            print('appended position:',len(player_position))\n",
            "            player_height.append(height)\n",
            "            player_weight.append(weight)\n",
            "#            print('appended weight:',len(player_weight))\n",
            "            process_status.append(\"Success\")\n",
            "        else:\n",
            "            print(\"Not Found in :\",response.text)\n",
            "            process_status.append(\"Failure: Did not find player\")\n",
            "            player_position.append(-1)\n",
            "            player_height.append(-1)\n",
            "            player_weight.append(-1)\n",
            "    except:\n",
            "            (type, value, tb) = sys.exc_info()\n",
            "            err = \"%s\" % value\n",
            "            process_status.append(\"Failure: Other Error\")\n",
            "            print(\"Other Error\")\n",
            "            player_position.append(-100)\n",
            "            player_height.append(-100)\n",
            "            player_weight.append(-100)\n",
            "#    print(len(player_name),len(player_position),len(player_height),len(process_status))\n",
            "    if len(player_name) != len(player_position):\n",
            "        break;\n",
            "import numpy as np\n",
            "player_add_info_dict = {\"player_name\":player_name,\"year\":year,\"team\":team,\"player_position\":player_position,\"player_height\":player_height,\"player_weight\":player_weight,\"process_status\":process_status}\n",
            "player_add_info_df=pd.DataFrame(data=player_add_info_dict)\n",
            "#process_status\n",
            "\n",
            "#player_add_info_df[\"process_status\"] = np.where(player_add_info_df[\"process_status\"] == \"Success\", \"Success\", \"Failure\")\n",
            "player_add_info_df.head()\n",
            "\n",
            "player_file = \"player_add_info_\"+str(start_row)+\"_\"+str(end_row)+\".csv\"\n",
            "print(player_file)\n",
            "player_add_info_df.to_csv(player_file)\n"
          ]
        }
      ]
    },
    {
      "cell_type": "code",
      "source": [
        "!(cd /content/drive/MyDrive/DataBootcamp_Project4/code ; python scrape.py 20001 30000 > scrape_20000_30000.log;cp player_add_info* /content/drive/MyDrive; cp scrape*.log /content/drive/MyDrive)"
      ],
      "metadata": {
        "id": "euJ5-Vg4If8r",
        "colab": {
          "base_uri": "https://localhost:8080/"
        },
        "outputId": "fa9aab9a-d304-4bce-813f-b51a3a622e41"
      },
      "execution_count": null,
      "outputs": [
        {
          "output_type": "stream",
          "name": "stdout",
          "text": [
            "sys:1: DtypeWarning: Columns (27) have mixed types.Specify dtype option on import or set low_memory=False.\n"
          ]
        }
      ]
    },
    {
      "cell_type": "code",
      "source": [
        "!(cd DataBootcamp_Project4 ; git config --global user.email \"62317637+kachrafaltu@users.noreply.github.com\";git add .; git commit -m \"push from colab\" ; git push )\n",
        "\n"
      ],
      "metadata": {
        "colab": {
          "base_uri": "https://localhost:8080/"
        },
        "id": "BHxV7s4cI2po",
        "outputId": "ceeb8d19-566b-40e3-dc88-60409e4c019b"
      },
      "execution_count": null,
      "outputs": [
        {
          "output_type": "stream",
          "name": "stdout",
          "text": [
            "[main 8d5fc5f] push from colab\n",
            " 1 file changed, 1 insertion(+)\n",
            " create mode 100644 code/test.log\n",
            "fatal: could not read Username for 'https://github.com': No such device or address\n"
          ]
        }
      ]
    },
    {
      "cell_type": "code",
      "source": [
        "!git config --global user.email \"62317637+kachrafaltu@users.noreply.github.com\""
      ],
      "metadata": {
        "id": "cMY3JB4_KTOS"
      },
      "execution_count": null,
      "outputs": []
    },
    {
      "cell_type": "code",
      "source": [
        "\n"
      ],
      "metadata": {
        "colab": {
          "base_uri": "https://localhost:8080/"
        },
        "id": "Ucg6AARAJPs_",
        "outputId": "80dc45dc-c30b-404a-f66c-e85526a0b53a"
      },
      "execution_count": null,
      "outputs": [
        {
          "output_type": "stream",
          "name": "stdout",
          "text": [
            "/content\n"
          ]
        }
      ]
    },
    {
      "cell_type": "code",
      "source": [
        "!ls -lrt /content/drive/MyDrive/DataBootcamp_Project4/code/"
      ],
      "metadata": {
        "colab": {
          "base_uri": "https://localhost:8080/"
        },
        "id": "ccymVBRF7oCs",
        "outputId": "01e2b483-2b19-44f2-cb08-eae2efa13994"
      },
      "execution_count": null,
      "outputs": [
        {
          "output_type": "stream",
          "name": "stdout",
          "text": [
            "ls: cannot access 'DataBootcamp_Project4/code/': No such file or directory\n"
          ]
        }
      ]
    },
    {
      "cell_type": "code",
      "source": [
        "!cat /content/drive/MyDrive/DataBootcamp_Project4/code/player_add_info_0_10000.csv | \n"
      ],
      "metadata": {
        "colab": {
          "base_uri": "https://localhost:8080/"
        },
        "id": "KPeKjlUyEvay",
        "outputId": "4d97ebd1-bf24-4765-cff5-40844e2a6e2a"
      },
      "execution_count": null,
      "outputs": [
        {
          "output_type": "stream",
          "name": "stdout",
          "text": [
            "/bin/bash: -c: line 1: syntax error: unexpected end of file\n"
          ]
        }
      ]
    },
    {
      "cell_type": "code",
      "source": [
        "cp /content/drive/MyDrive/DataBootcamp_Project4/code/*.csv /content/drive/MyDrive"
      ],
      "metadata": {
        "id": "xLnIq25T65rC"
      },
      "execution_count": 20,
      "outputs": []
    },
    {
      "cell_type": "code",
      "source": [
        "cp /content/drive/MyDrive/DataBootcamp_Project4/code/*.log /content/drive/MyDrive"
      ],
      "metadata": {
        "id": "3SIJM8g67QRj"
      },
      "execution_count": 21,
      "outputs": []
    }
  ]
}