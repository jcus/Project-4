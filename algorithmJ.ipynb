{
 "cells": [
  {
   "cell_type": "code",
   "execution_count": null,
   "metadata": {},
   "outputs": [],
   "source": [
    "import pandas as pd\n",
    "from path import Path\n",
    "from sklearn.neighbors import KNeighborsClassifier\n",
    "from sklearn.model_selection import train_test_split\n",
    "from sklearn.preprocessing import StandardScaler, MinMaxScaler\n",
    "from sklearn.decomposition import PCA\n",
    "from sklearn.manifold import TSNE\n",
    "from sklearn.cluster import KMeans\n",
    "import matplotlib.pyplot as plt\n",
    "#from sklearn.datasets import load_Group6_Project4_data"
   ]
  },
  {
   "cell_type": "markdown",
   "metadata": {},
   "source": [
    "### Data Preparation"
   ]
  },
  {
   "cell_type": "code",
   "execution_count": 2,
   "metadata": {},
   "outputs": [
    {
     "data": {
      "text/plain": [
       "<bound method DataFrame.info of        Unnamed: 0.1          player_name   position                team  conf  \\\n",
       "0                 0        Isaiah Felder     Wing G  South Carolina St.  MEAC   \n",
       "1                 1  Jalen Coleman-Lands     Wing G              Kansas   B12   \n",
       "2                 2          K.J. Walton     Wing G               Akron   MAC   \n",
       "3                 3         Jeriah Horne  Stretch 4               Tulsa  Amer   \n",
       "4                 4           Eric Curry     Wing F           Minnesota   B10   \n",
       "...             ...                  ...        ...                 ...   ...   \n",
       "51199         61056       Trey Patterson    Pure PG           Villanova    BE   \n",
       "51200         61057   Stavros Polatoglou          C    Northwestern St.  Slnd   \n",
       "51201         61058           Sandy Ryan       PF/C              Tulane  Amer   \n",
       "51202         61059            Ty Larson       PF/C          Texas Tech   B12   \n",
       "51203         61060          Jaden Jones    Pure PG             Rutgers   B10   \n",
       "\n",
       "       games_played  game_min_%  pts_per_game  field_goal_%   3_pt_%  ...  \\\n",
       "0                11        17.6        2.3636           34.7   0.250  ...   \n",
       "1                23        78.5       14.3043           54.0   0.395  ...   \n",
       "2                20        63.0       16.3500           54.3   0.000  ...   \n",
       "3                32        61.3       10.8125           55.2   0.397  ...   \n",
       "4                29        39.2        3.6552           46.3   0.190  ...   \n",
       "...             ...         ...           ...            ...     ...  ...   \n",
       "51199             2         0.3        0.0000            0.0   0.000  ...   \n",
       "51200             4         1.3        0.0000            0.0   0.000  ...   \n",
       "51201             1         0.1        0.0000            0.0   0.000  ...   \n",
       "51202             1         0.1        0.0000            0.0   0.000  ...   \n",
       "51203             4         1.0        0.7500           25.0   0.500  ...   \n",
       "\n",
       "       blk_per_game  offensive_rating  usage  classification  year  \\\n",
       "0               0.0              61.1   18.6              Sr  2022   \n",
       "1               0.3             103.1   21.5              Sr  2022   \n",
       "2               0.7             108.6   26.5              Sr  2022   \n",
       "3               0.3             116.0   20.8              Sr  2022   \n",
       "4               1.5              95.1   14.7              Sr  2022   \n",
       "...             ...               ...    ...             ...   ...   \n",
       "51199           0.0              60.5   19.3              Fr  2021   \n",
       "51200           0.0              28.3    7.1              Fr  2021   \n",
       "51201           0.0               0.0    0.0              Fr  2021   \n",
       "51202           0.0               0.0    0.0              Fr  2021   \n",
       "51203           0.0              89.6   28.8              Fr  2021   \n",
       "\n",
       "       Unnamed: 0_addinfo  Position  Height Weight  \\\n",
       "0                     NaN       NaN     NaN    NaN   \n",
       "1                     NaN       NaN     NaN    NaN   \n",
       "2                     NaN       NaN     NaN    NaN   \n",
       "3                     NaN       NaN     NaN    NaN   \n",
       "4                     NaN       NaN     NaN    NaN   \n",
       "...                   ...       ...     ...    ...   \n",
       "51199              1055.0     Guard   193.0   81.0   \n",
       "51200              1056.0   Forward   211.0   99.0   \n",
       "51201              1057.0     Guard   190.0   74.0   \n",
       "51202              1058.0        -1    -1.0   -1.0   \n",
       "51203              1059.0     Guard   196.0   86.0   \n",
       "\n",
       "                     process_status  \n",
       "0                               NaN  \n",
       "1                               NaN  \n",
       "2                               NaN  \n",
       "3                               NaN  \n",
       "4                               NaN  \n",
       "...                             ...  \n",
       "51199                       Success  \n",
       "51200                       Success  \n",
       "51201                       Success  \n",
       "51202  Failure: Did not find player  \n",
       "51203                       Success  \n",
       "\n",
       "[51204 rows x 25 columns]>"
      ]
     },
     "execution_count": 2,
     "metadata": {},
     "output_type": "execute_result"
    }
   ],
   "source": [
    "file = Path('../data/merged_data_file.csv')\n",
    "# set first line as index-- index_col=0\n",
    "df = pd.read_csv(file, index_col=0)\n",
    "df.info"
   ]
  },
  {
   "cell_type": "code",
   "execution_count": 3,
   "metadata": {},
   "outputs": [
    {
     "data": {
      "text/html": [
       "<div>\n",
       "<style scoped>\n",
       "    .dataframe tbody tr th:only-of-type {\n",
       "        vertical-align: middle;\n",
       "    }\n",
       "\n",
       "    .dataframe tbody tr th {\n",
       "        vertical-align: top;\n",
       "    }\n",
       "\n",
       "    .dataframe thead th {\n",
       "        text-align: right;\n",
       "    }\n",
       "</style>\n",
       "<table border=\"1\" class=\"dataframe\">\n",
       "  <thead>\n",
       "    <tr style=\"text-align: right;\">\n",
       "      <th></th>\n",
       "      <th>Unnamed: 0.1</th>\n",
       "      <th>player_name</th>\n",
       "      <th>position</th>\n",
       "      <th>team</th>\n",
       "      <th>conf</th>\n",
       "      <th>games_played</th>\n",
       "      <th>game_min_%</th>\n",
       "      <th>pts_per_game</th>\n",
       "      <th>field_goal_%</th>\n",
       "      <th>3_pt_%</th>\n",
       "      <th>...</th>\n",
       "      <th>blk_per_game</th>\n",
       "      <th>offensive_rating</th>\n",
       "      <th>usage</th>\n",
       "      <th>classification</th>\n",
       "      <th>year</th>\n",
       "      <th>Unnamed: 0_addinfo</th>\n",
       "      <th>Position</th>\n",
       "      <th>Height</th>\n",
       "      <th>Weight</th>\n",
       "      <th>process_status</th>\n",
       "    </tr>\n",
       "  </thead>\n",
       "  <tbody>\n",
       "    <tr>\n",
       "      <th>0</th>\n",
       "      <td>0</td>\n",
       "      <td>Isaiah Felder</td>\n",
       "      <td>Wing G</td>\n",
       "      <td>South Carolina St.</td>\n",
       "      <td>MEAC</td>\n",
       "      <td>11</td>\n",
       "      <td>17.6</td>\n",
       "      <td>2.3636</td>\n",
       "      <td>34.7</td>\n",
       "      <td>0.250</td>\n",
       "      <td>...</td>\n",
       "      <td>0.0</td>\n",
       "      <td>61.1</td>\n",
       "      <td>18.6</td>\n",
       "      <td>Sr</td>\n",
       "      <td>2022</td>\n",
       "      <td>NaN</td>\n",
       "      <td>NaN</td>\n",
       "      <td>NaN</td>\n",
       "      <td>NaN</td>\n",
       "      <td>NaN</td>\n",
       "    </tr>\n",
       "    <tr>\n",
       "      <th>1</th>\n",
       "      <td>1</td>\n",
       "      <td>Jalen Coleman-Lands</td>\n",
       "      <td>Wing G</td>\n",
       "      <td>Kansas</td>\n",
       "      <td>B12</td>\n",
       "      <td>23</td>\n",
       "      <td>78.5</td>\n",
       "      <td>14.3043</td>\n",
       "      <td>54.0</td>\n",
       "      <td>0.395</td>\n",
       "      <td>...</td>\n",
       "      <td>0.3</td>\n",
       "      <td>103.1</td>\n",
       "      <td>21.5</td>\n",
       "      <td>Sr</td>\n",
       "      <td>2022</td>\n",
       "      <td>NaN</td>\n",
       "      <td>NaN</td>\n",
       "      <td>NaN</td>\n",
       "      <td>NaN</td>\n",
       "      <td>NaN</td>\n",
       "    </tr>\n",
       "    <tr>\n",
       "      <th>2</th>\n",
       "      <td>2</td>\n",
       "      <td>K.J. Walton</td>\n",
       "      <td>Wing G</td>\n",
       "      <td>Akron</td>\n",
       "      <td>MAC</td>\n",
       "      <td>20</td>\n",
       "      <td>63.0</td>\n",
       "      <td>16.3500</td>\n",
       "      <td>54.3</td>\n",
       "      <td>0.000</td>\n",
       "      <td>...</td>\n",
       "      <td>0.7</td>\n",
       "      <td>108.6</td>\n",
       "      <td>26.5</td>\n",
       "      <td>Sr</td>\n",
       "      <td>2022</td>\n",
       "      <td>NaN</td>\n",
       "      <td>NaN</td>\n",
       "      <td>NaN</td>\n",
       "      <td>NaN</td>\n",
       "      <td>NaN</td>\n",
       "    </tr>\n",
       "    <tr>\n",
       "      <th>3</th>\n",
       "      <td>3</td>\n",
       "      <td>Jeriah Horne</td>\n",
       "      <td>Stretch 4</td>\n",
       "      <td>Tulsa</td>\n",
       "      <td>Amer</td>\n",
       "      <td>32</td>\n",
       "      <td>61.3</td>\n",
       "      <td>10.8125</td>\n",
       "      <td>55.2</td>\n",
       "      <td>0.397</td>\n",
       "      <td>...</td>\n",
       "      <td>0.3</td>\n",
       "      <td>116.0</td>\n",
       "      <td>20.8</td>\n",
       "      <td>Sr</td>\n",
       "      <td>2022</td>\n",
       "      <td>NaN</td>\n",
       "      <td>NaN</td>\n",
       "      <td>NaN</td>\n",
       "      <td>NaN</td>\n",
       "      <td>NaN</td>\n",
       "    </tr>\n",
       "    <tr>\n",
       "      <th>4</th>\n",
       "      <td>4</td>\n",
       "      <td>Eric Curry</td>\n",
       "      <td>Wing F</td>\n",
       "      <td>Minnesota</td>\n",
       "      <td>B10</td>\n",
       "      <td>29</td>\n",
       "      <td>39.2</td>\n",
       "      <td>3.6552</td>\n",
       "      <td>46.3</td>\n",
       "      <td>0.190</td>\n",
       "      <td>...</td>\n",
       "      <td>1.5</td>\n",
       "      <td>95.1</td>\n",
       "      <td>14.7</td>\n",
       "      <td>Sr</td>\n",
       "      <td>2022</td>\n",
       "      <td>NaN</td>\n",
       "      <td>NaN</td>\n",
       "      <td>NaN</td>\n",
       "      <td>NaN</td>\n",
       "      <td>NaN</td>\n",
       "    </tr>\n",
       "  </tbody>\n",
       "</table>\n",
       "<p>5 rows × 25 columns</p>\n",
       "</div>"
      ],
      "text/plain": [
       "   Unnamed: 0.1          player_name   position                team  conf  \\\n",
       "0             0        Isaiah Felder     Wing G  South Carolina St.  MEAC   \n",
       "1             1  Jalen Coleman-Lands     Wing G              Kansas   B12   \n",
       "2             2          K.J. Walton     Wing G               Akron   MAC   \n",
       "3             3         Jeriah Horne  Stretch 4               Tulsa  Amer   \n",
       "4             4           Eric Curry     Wing F           Minnesota   B10   \n",
       "\n",
       "   games_played  game_min_%  pts_per_game  field_goal_%   3_pt_%  ...  \\\n",
       "0            11        17.6        2.3636           34.7   0.250  ...   \n",
       "1            23        78.5       14.3043           54.0   0.395  ...   \n",
       "2            20        63.0       16.3500           54.3   0.000  ...   \n",
       "3            32        61.3       10.8125           55.2   0.397  ...   \n",
       "4            29        39.2        3.6552           46.3   0.190  ...   \n",
       "\n",
       "   blk_per_game  offensive_rating  usage  classification  year  \\\n",
       "0           0.0              61.1   18.6              Sr  2022   \n",
       "1           0.3             103.1   21.5              Sr  2022   \n",
       "2           0.7             108.6   26.5              Sr  2022   \n",
       "3           0.3             116.0   20.8              Sr  2022   \n",
       "4           1.5              95.1   14.7              Sr  2022   \n",
       "\n",
       "   Unnamed: 0_addinfo  Position  Height Weight  process_status  \n",
       "0                 NaN       NaN     NaN    NaN             NaN  \n",
       "1                 NaN       NaN     NaN    NaN             NaN  \n",
       "2                 NaN       NaN     NaN    NaN             NaN  \n",
       "3                 NaN       NaN     NaN    NaN             NaN  \n",
       "4                 NaN       NaN     NaN    NaN             NaN  \n",
       "\n",
       "[5 rows x 25 columns]"
      ]
     },
     "execution_count": 3,
     "metadata": {},
     "output_type": "execute_result"
    }
   ],
   "source": [
    "df.head()"
   ]
  },
  {
   "cell_type": "code",
   "execution_count": 4,
   "metadata": {},
   "outputs": [
    {
     "data": {
      "text/plain": [
       "Index(['Unnamed: 0.1', 'player_name', 'position', 'team', 'conf',\n",
       "       'games_played', 'game_min_%', 'pts_per_game', 'field_goal_% ', '3_pt_%',\n",
       "       'Free_throw_%', 'offensive_rebound_per_game',\n",
       "       'defensive_ rebound_per_game', 'AST_per_game', 'stl_per_game',\n",
       "       'blk_per_game', 'offensive_rating', 'usage', 'classification', 'year',\n",
       "       'Unnamed: 0_addinfo', 'Position', 'Height', 'Weight', 'process_status'],\n",
       "      dtype='object')"
      ]
     },
     "execution_count": 4,
     "metadata": {},
     "output_type": "execute_result"
    }
   ],
   "source": [
    "df.columns"
   ]
  },
  {
   "cell_type": "code",
   "execution_count": 5,
   "metadata": {},
   "outputs": [
    {
     "ename": "KeyError",
     "evalue": "'Draft Pick Y/N'",
     "output_type": "error",
     "traceback": [
      "\u001b[1;31m---------------------------------------------------------------------------\u001b[0m",
      "\u001b[1;31mKeyError\u001b[0m                                  Traceback (most recent call last)",
      "\u001b[1;32mC:\\ProgramData\\Anaconda3\\lib\\site-packages\\pandas\\core\\indexes\\base.py\u001b[0m in \u001b[0;36mget_loc\u001b[1;34m(self, key, method, tolerance)\u001b[0m\n\u001b[0;32m   3079\u001b[0m             \u001b[1;32mtry\u001b[0m\u001b[1;33m:\u001b[0m\u001b[1;33m\u001b[0m\u001b[1;33m\u001b[0m\u001b[0m\n\u001b[1;32m-> 3080\u001b[1;33m                 \u001b[1;32mreturn\u001b[0m \u001b[0mself\u001b[0m\u001b[1;33m.\u001b[0m\u001b[0m_engine\u001b[0m\u001b[1;33m.\u001b[0m\u001b[0mget_loc\u001b[0m\u001b[1;33m(\u001b[0m\u001b[0mcasted_key\u001b[0m\u001b[1;33m)\u001b[0m\u001b[1;33m\u001b[0m\u001b[1;33m\u001b[0m\u001b[0m\n\u001b[0m\u001b[0;32m   3081\u001b[0m             \u001b[1;32mexcept\u001b[0m \u001b[0mKeyError\u001b[0m \u001b[1;32mas\u001b[0m \u001b[0merr\u001b[0m\u001b[1;33m:\u001b[0m\u001b[1;33m\u001b[0m\u001b[1;33m\u001b[0m\u001b[0m\n",
      "\u001b[1;32mpandas\\_libs\\index.pyx\u001b[0m in \u001b[0;36mpandas._libs.index.IndexEngine.get_loc\u001b[1;34m()\u001b[0m\n",
      "\u001b[1;32mpandas\\_libs\\index.pyx\u001b[0m in \u001b[0;36mpandas._libs.index.IndexEngine.get_loc\u001b[1;34m()\u001b[0m\n",
      "\u001b[1;32mpandas\\_libs\\hashtable_class_helper.pxi\u001b[0m in \u001b[0;36mpandas._libs.hashtable.PyObjectHashTable.get_item\u001b[1;34m()\u001b[0m\n",
      "\u001b[1;32mpandas\\_libs\\hashtable_class_helper.pxi\u001b[0m in \u001b[0;36mpandas._libs.hashtable.PyObjectHashTable.get_item\u001b[1;34m()\u001b[0m\n",
      "\u001b[1;31mKeyError\u001b[0m: 'Draft Pick Y/N'",
      "\nThe above exception was the direct cause of the following exception:\n",
      "\u001b[1;31mKeyError\u001b[0m                                  Traceback (most recent call last)",
      "\u001b[1;32m<ipython-input-5-b7569ca003b5>\u001b[0m in \u001b[0;36m<module>\u001b[1;34m\u001b[0m\n\u001b[0;32m      1\u001b[0m \u001b[1;31m# List all algorithms in use- 1\u001b[0m\u001b[1;33m\u001b[0m\u001b[1;33m\u001b[0m\u001b[1;33m\u001b[0m\u001b[0m\n\u001b[1;32m----> 2\u001b[1;33m \u001b[0mdf\u001b[0m\u001b[1;33m[\u001b[0m\u001b[1;34m'Draft Pick Y/N'\u001b[0m\u001b[1;33m]\u001b[0m\u001b[1;33m.\u001b[0m\u001b[0munique\u001b[0m\u001b[1;33m(\u001b[0m\u001b[1;33m)\u001b[0m\u001b[1;33m\u001b[0m\u001b[1;33m\u001b[0m\u001b[0m\n\u001b[0m\u001b[0;32m      3\u001b[0m \u001b[0mdf\u001b[0m\u001b[1;33m\u001b[0m\u001b[1;33m\u001b[0m\u001b[0m\n",
      "\u001b[1;32mC:\\ProgramData\\Anaconda3\\lib\\site-packages\\pandas\\core\\frame.py\u001b[0m in \u001b[0;36m__getitem__\u001b[1;34m(self, key)\u001b[0m\n\u001b[0;32m   3022\u001b[0m             \u001b[1;32mif\u001b[0m \u001b[0mself\u001b[0m\u001b[1;33m.\u001b[0m\u001b[0mcolumns\u001b[0m\u001b[1;33m.\u001b[0m\u001b[0mnlevels\u001b[0m \u001b[1;33m>\u001b[0m \u001b[1;36m1\u001b[0m\u001b[1;33m:\u001b[0m\u001b[1;33m\u001b[0m\u001b[1;33m\u001b[0m\u001b[0m\n\u001b[0;32m   3023\u001b[0m                 \u001b[1;32mreturn\u001b[0m \u001b[0mself\u001b[0m\u001b[1;33m.\u001b[0m\u001b[0m_getitem_multilevel\u001b[0m\u001b[1;33m(\u001b[0m\u001b[0mkey\u001b[0m\u001b[1;33m)\u001b[0m\u001b[1;33m\u001b[0m\u001b[1;33m\u001b[0m\u001b[0m\n\u001b[1;32m-> 3024\u001b[1;33m             \u001b[0mindexer\u001b[0m \u001b[1;33m=\u001b[0m \u001b[0mself\u001b[0m\u001b[1;33m.\u001b[0m\u001b[0mcolumns\u001b[0m\u001b[1;33m.\u001b[0m\u001b[0mget_loc\u001b[0m\u001b[1;33m(\u001b[0m\u001b[0mkey\u001b[0m\u001b[1;33m)\u001b[0m\u001b[1;33m\u001b[0m\u001b[1;33m\u001b[0m\u001b[0m\n\u001b[0m\u001b[0;32m   3025\u001b[0m             \u001b[1;32mif\u001b[0m \u001b[0mis_integer\u001b[0m\u001b[1;33m(\u001b[0m\u001b[0mindexer\u001b[0m\u001b[1;33m)\u001b[0m\u001b[1;33m:\u001b[0m\u001b[1;33m\u001b[0m\u001b[1;33m\u001b[0m\u001b[0m\n\u001b[0;32m   3026\u001b[0m                 \u001b[0mindexer\u001b[0m \u001b[1;33m=\u001b[0m \u001b[1;33m[\u001b[0m\u001b[0mindexer\u001b[0m\u001b[1;33m]\u001b[0m\u001b[1;33m\u001b[0m\u001b[1;33m\u001b[0m\u001b[0m\n",
      "\u001b[1;32mC:\\ProgramData\\Anaconda3\\lib\\site-packages\\pandas\\core\\indexes\\base.py\u001b[0m in \u001b[0;36mget_loc\u001b[1;34m(self, key, method, tolerance)\u001b[0m\n\u001b[0;32m   3080\u001b[0m                 \u001b[1;32mreturn\u001b[0m \u001b[0mself\u001b[0m\u001b[1;33m.\u001b[0m\u001b[0m_engine\u001b[0m\u001b[1;33m.\u001b[0m\u001b[0mget_loc\u001b[0m\u001b[1;33m(\u001b[0m\u001b[0mcasted_key\u001b[0m\u001b[1;33m)\u001b[0m\u001b[1;33m\u001b[0m\u001b[1;33m\u001b[0m\u001b[0m\n\u001b[0;32m   3081\u001b[0m             \u001b[1;32mexcept\u001b[0m \u001b[0mKeyError\u001b[0m \u001b[1;32mas\u001b[0m \u001b[0merr\u001b[0m\u001b[1;33m:\u001b[0m\u001b[1;33m\u001b[0m\u001b[1;33m\u001b[0m\u001b[0m\n\u001b[1;32m-> 3082\u001b[1;33m                 \u001b[1;32mraise\u001b[0m \u001b[0mKeyError\u001b[0m\u001b[1;33m(\u001b[0m\u001b[0mkey\u001b[0m\u001b[1;33m)\u001b[0m \u001b[1;32mfrom\u001b[0m \u001b[0merr\u001b[0m\u001b[1;33m\u001b[0m\u001b[1;33m\u001b[0m\u001b[0m\n\u001b[0m\u001b[0;32m   3083\u001b[0m \u001b[1;33m\u001b[0m\u001b[0m\n\u001b[0;32m   3084\u001b[0m         \u001b[1;32mif\u001b[0m \u001b[0mtolerance\u001b[0m \u001b[1;32mis\u001b[0m \u001b[1;32mnot\u001b[0m \u001b[1;32mNone\u001b[0m\u001b[1;33m:\u001b[0m\u001b[1;33m\u001b[0m\u001b[1;33m\u001b[0m\u001b[0m\n",
      "\u001b[1;31mKeyError\u001b[0m: 'Draft Pick Y/N'"
     ]
    }
   ],
   "source": [
    "# List all algorithms in use- 1\n",
    "df['Draft Pick Y/N'].unique()\n",
    "df"
   ]
  },
  {
   "cell_type": "code",
   "execution_count": null,
   "metadata": {},
   "outputs": [],
   "source": [
    "# List all algorithms in use- 2\n",
    "algorithms = set(df.Algorithm.values)\n",
    "print(algorithms)"
   ]
  },
  {
   "cell_type": "code",
   "execution_count": null,
   "metadata": {},
   "outputs": [],
   "source": [
    "# print the counts of stocks being currently traded vs. not being currently traded \n",
    "df['IsTrading'].value_counts()"
   ]
  },
  {
   "cell_type": "code",
   "execution_count": null,
   "metadata": {},
   "outputs": [],
   "source": [
    "# Select only cryptocurrencies that are being traded\n",
    "df = df.loc[df['IsTrading'] == True]\n",
    "df['IsTrading'].value_counts()"
   ]
  },
  {
   "cell_type": "code",
   "execution_count": null,
   "metadata": {},
   "outputs": [],
   "source": [
    "currency= df.CoinName.values\n",
    "print(currency)\n",
    "#df['CoinName'].unique()"
   ]
  },
  {
   "cell_type": "code",
   "execution_count": null,
   "metadata": {},
   "outputs": [],
   "source": [
    "# Delete the IsTrading column; it is no longer necessary\n",
    "df=df.drop('IsTrading',axis = 1)\n",
    "df"
   ]
  },
  {
   "cell_type": "code",
   "execution_count": null,
   "metadata": {},
   "outputs": [],
   "source": [
    "# Delete all rows with null values\n",
    "df1 = df.dropna()\n",
    "df1"
   ]
  },
  {
   "cell_type": "code",
   "execution_count": null,
   "metadata": {},
   "outputs": [],
   "source": [
    "# get instances and variables of df- shape\n",
    "df1 = df.dropna(axis=0, how='any')\n",
    "df1.shape"
   ]
  },
  {
   "cell_type": "code",
   "execution_count": null,
   "metadata": {},
   "outputs": [],
   "source": [
    "# Sort values in TotalCoinsMined to identify negative or zero values\n",
    "#df = df1['TotalCoinsMined'].sort_values()\n",
    "#df\n",
    "df1.TotalCoinsMined.sort_values()"
   ]
  },
  {
   "cell_type": "code",
   "execution_count": null,
   "metadata": {},
   "outputs": [],
   "source": [
    "# Select only rows with positive TotalCoinsMined values\n",
    "df1= df1[df1['TotalCoinsMined']>0]\n",
    "len(df1)"
   ]
  },
  {
   "cell_type": "code",
   "execution_count": null,
   "metadata": {},
   "outputs": [],
   "source": [
    "# Delete the CoinName column from the original dataframe\n",
    "df1 = df1.drop('CoinName',axis=1)\n",
    "df1"
   ]
  },
  {
   "cell_type": "code",
   "execution_count": null,
   "metadata": {},
   "outputs": [],
   "source": [
    "# Create dummy variables for columns with string values\n",
    "# pd.get_dummies(data, prefix, dummy_na, columns, drop_first)\n",
    "x_crypto = pd.get_dummies(df1, columns=['Algorithm', 'ProofType'])\n",
    "#x_crypto = pd.get_dummies(data=crypto_df, columns=['Algorithm', 'ProofType'])\n",
    "\n",
    "# Print encoding variable\n",
    "print(x_crypto.shape)"
   ]
  },
  {
   "cell_type": "code",
   "execution_count": null,
   "metadata": {},
   "outputs": [],
   "source": [
    "# Display the dataframe\n",
    "x_crypto.head()"
   ]
  },
  {
   "cell_type": "code",
   "execution_count": null,
   "metadata": {},
   "outputs": [],
   "source": [
    "# Standardize the data\n",
    "x_scaler = StandardScaler()\n",
    "crypto_scaler = x_scaler.fit_transform(x_crypto)"
   ]
  },
  {
   "cell_type": "code",
   "execution_count": null,
   "metadata": {},
   "outputs": [],
   "source": [
    "# print the scaled data\n",
    "crypto_scaler[0]"
   ]
  },
  {
   "cell_type": "code",
   "execution_count": null,
   "metadata": {},
   "outputs": [],
   "source": [
    "# Identify the numbers of rows and columns in the scaled data\n",
    "crypto_scaler.shape"
   ]
  },
  {
   "cell_type": "markdown",
   "metadata": {},
   "source": [
    "### Reduce dataset dimensions with PCA"
   ]
  },
  {
   "cell_type": "code",
   "execution_count": null,
   "metadata": {},
   "outputs": [],
   "source": [
    "# Reduce dimensions with PCA- decomposition\n",
    "pca1 = PCA(n_components = 0.9)"
   ]
  },
  {
   "cell_type": "code",
   "execution_count": null,
   "metadata": {},
   "outputs": [],
   "source": [
    "crypto_pca = pca1.fit_transform(crypto_scaler)\n",
    "crypto_pca.shape"
   ]
  },
  {
   "cell_type": "code",
   "execution_count": null,
   "metadata": {},
   "outputs": [],
   "source": [
    "# The sum of the explained variance of the principal components\n",
    "pca1.explained_variance_.sum()"
   ]
  },
  {
   "cell_type": "code",
   "execution_count": null,
   "metadata": {},
   "outputs": [],
   "source": [
    "# Reduce dimensions with t-SNE\n",
    "crypto_tsne = TSNE(perplexity = 60)\n",
    "tsne_features = crypto_tsne.fit_transform(crypto_pca)\n",
    "tsne_features.shape"
   ]
  },
  {
   "cell_type": "code",
   "execution_count": null,
   "metadata": {
    "scrolled": true
   },
   "outputs": [],
   "source": [
    "# Plot t-SNE output (x -60 10, y -20 50)\n",
    "x_axis = tsne_features[:,0]\n",
    "y_axis = tsne_features[:,1]\n",
    "plt.scatter(x_axis, y_axis)\n",
    "plt.show"
   ]
  },
  {
   "cell_type": "code",
   "execution_count": null,
   "metadata": {},
   "outputs": [],
   "source": [
    "# Identify clusters with k-means\n",
    "inertia = []\n",
    "k = [1,2,3,4,5,6,7,8,9,10] \n",
    "# list(range(1,10))\n",
    "\n",
    "# get the inertia for the range of k values\n",
    "for i in k:\n",
    "    km = KMeans(n_clusters= i , random_state=0)\n",
    "    km.fit(crypto_pca)\n",
    "    inertia.append(km.inertia_)"
   ]
  },
  {
   "cell_type": "code",
   "execution_count": null,
   "metadata": {},
   "outputs": [],
   "source": [
    "# create elbow df\n",
    "elbow_data = {\"k\": k, \"inertia\": inertia}\n",
    "df2 = pd.DataFrame(elbow_data)"
   ]
  },
  {
   "cell_type": "code",
   "execution_count": null,
   "metadata": {},
   "outputs": [],
   "source": [
    "# Create an elbow plot x 2,4,6,8,10, y 39000 47000\n",
    "plt.plot(df2['k'], df2['inertia'])\n",
    "plt.xticks(range(1,10))\n",
    "#,[2,4,6,8,10]\n",
    "plt.xlabel('k/ number of clusters')\n",
    "plt.ylabel('Inertia')\n",
    "plt.title('Elbow Plot')\n",
    "plt.legend('inertia')\n",
    "plt.show()"
   ]
  },
  {
   "cell_type": "code",
   "execution_count": null,
   "metadata": {},
   "outputs": [],
   "source": []
  }
 ],
 "metadata": {
  "kernelspec": {
   "display_name": "Python 3",
   "language": "python",
   "name": "python3"
  },
  "language_info": {
   "codemirror_mode": {
    "name": "ipython",
    "version": 3
   },
   "file_extension": ".py",
   "mimetype": "text/x-python",
   "name": "python",
   "nbconvert_exporter": "python",
   "pygments_lexer": "ipython3",
   "version": "3.8.8"
  }
 },
 "nbformat": 4,
 "nbformat_minor": 4
}
